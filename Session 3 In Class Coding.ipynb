{
 "cells": [
  {
   "cell_type": "markdown",
   "metadata": {},
   "source": [
    "Feature Layer documentation page: https://developers.arcgis.com/python/api-reference/arcgis.features.toc.html#featurelayer"
   ]
  },
  {
   "cell_type": "code",
   "execution_count": null,
   "metadata": {},
   "outputs": [],
   "source": [
    "#AGOL Problem 1\n",
    "#Use the feature service URL to create a feature layer using the SF_Spatial_Data Feature service\n",
    "#If you aren't able to access the Bay Geo Python Class Group, upload some data to AGOL using ArcPro\n",
    "#Use the query function with a where clause to limit the results and set them equal to a variable\n",
    "\n",
    "\n",
    "\n",
    "\n",
    "\n",
    "\n"
   ]
  },
  {
   "cell_type": "code",
   "execution_count": null,
   "metadata": {},
   "outputs": [],
   "source": [
    "#AGOL Problem 2\n",
    "#Use the variable above to print the contents of the variable\n",
    "\n",
    "\n",
    "\n",
    "\n"
   ]
  },
  {
   "cell_type": "markdown",
   "metadata": {},
   "source": [
    "Datetime doc pages\n",
    "\n",
    "https://docs.python.org/3/library/datetime.html\n",
    "\n",
    "https://docs.python.org/3/library/datetime.html#strftime-strptime-behavior"
   ]
  },
  {
   "cell_type": "code",
   "execution_count": null,
   "metadata": {},
   "outputs": [],
   "source": [
    "#Datetime Problem 1\n",
    "#Write some code to print today's date and time like this, \"Monday, August 17, of the Year 2020\"\n",
    "\n",
    "\n",
    "\n"
   ]
  },
  {
   "cell_type": "code",
   "execution_count": null,
   "metadata": {},
   "outputs": [],
   "source": [
    "#Datetime Problem 2\n",
    "#Read all the dates in the Date_file.csv file, print any date that is more than 5 days in the past.\n",
    "\n",
    "\n",
    "\n"
   ]
  }
 ],
 "metadata": {
  "kernelspec": {
   "display_name": "Python 3",
   "language": "python",
   "name": "python3"
  },
  "language_info": {
   "codemirror_mode": {
    "name": "ipython",
    "version": 3
   },
   "file_extension": ".py",
   "mimetype": "text/x-python",
   "name": "python",
   "nbconvert_exporter": "python",
   "pygments_lexer": "ipython3",
   "version": "3.6.9"
  }
 },
 "nbformat": 4,
 "nbformat_minor": 2
}
