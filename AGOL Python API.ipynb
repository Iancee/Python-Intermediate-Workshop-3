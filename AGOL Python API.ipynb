{
 "cells": [
  {
   "cell_type": "markdown",
   "metadata": {},
   "source": [
    "# Python with ArcGIS Online\n",
    "\n",
    "The arcgis Python API allows you to connect to your AGOL Organization through Python.  Just like accessing AGOL through a web browser, you need to login to access your data.\n",
    "\n",
    "Data in AGOL is stored as feature layers and tables.  These have similar properties to geodatabases and feature classes.  Featuresets and Feature Collections are similar to the feature layers we have worked with in arcpy.  These are used to update the feature services.\n",
    "\n",
    "Link to arcgis Python API documentation: https://developers.arcgis.com/python/api-reference/\n"
   ]
  },
  {
   "cell_type": "code",
   "execution_count": null,
   "metadata": {
    "scrolled": true
   },
   "outputs": [],
   "source": [
    "#The gis module within the arcgis library is how you can access your AGOL Organization\n",
    "#To log in to our account in a secure way, we will use a function in the getpass Python library\n",
    "\n",
    "import getpass\n",
    "from arcgis import gis, features\n",
    "\n",
    "username = 'Ian_Conroy_LearnArcGIS'\n",
    "\n",
    "password = getpass.getpass()\n",
    "\n",
    "#Connect to AGOL org, this line creates a gis object that allows us to access our AGOL account and any data we have access to\n",
    "print('Connecting to AGOL Org')\n",
    "gis = gis.GIS('https://learngis2.maps.arcgis.com', username, password)\n",
    "\n"
   ]
  },
  {
   "cell_type": "code",
   "execution_count": null,
   "metadata": {},
   "outputs": [],
   "source": [
    "#The arcgis Python API also supports a map widget, which you can use in Jupyter Notebooks to display maps and data\n",
    "amap = gis.map(location='San Francisco, Ca')\n",
    "amap"
   ]
  },
  {
   "cell_type": "code",
   "execution_count": null,
   "metadata": {},
   "outputs": [],
   "source": [
    "#We can use the tab key to get a list of options for an object's methods/functions\n",
    "#the gis module has a search function to look for AGOL items\n",
    "\n",
    "search_result = gis.content.search('Backpacking')"
   ]
  },
  {
   "cell_type": "code",
   "execution_count": null,
   "metadata": {},
   "outputs": [],
   "source": [
    "search_result"
   ]
  },
  {
   "cell_type": "code",
   "execution_count": null,
   "metadata": {},
   "outputs": [],
   "source": [
    "#Once we have some results, we can use the item to get access to the feature layer and create feature layer collections/featuresets\n",
    "for item in search_result:\n",
    "    print(item, 'is', item.type)\n",
    "    if item.type == 'Feature Service':\n",
    "        print(item, item.id)\n",
    "        fs_item = gis.content.get(item.id)"
   ]
  },
  {
   "cell_type": "code",
   "execution_count": null,
   "metadata": {
    "scrolled": true
   },
   "outputs": [],
   "source": [
    "fs_item"
   ]
  },
  {
   "cell_type": "code",
   "execution_count": null,
   "metadata": {},
   "outputs": [],
   "source": [
    "type(fs_item)"
   ]
  },
  {
   "cell_type": "code",
   "execution_count": null,
   "metadata": {},
   "outputs": [],
   "source": [
    "#We can use the item id to create a feature collection\n",
    "bp_fset = features.FeatureLayerCollection.fromitem(fs_item)"
   ]
  },
  {
   "cell_type": "code",
   "execution_count": null,
   "metadata": {},
   "outputs": [],
   "source": [
    "bp_fset"
   ]
  },
  {
   "cell_type": "code",
   "execution_count": null,
   "metadata": {},
   "outputs": [],
   "source": [
    "#We can access the layers within the feature layer collection by using the layer property\n",
    "for layer in bp_fset.layers:\n",
    "    print(layer.properties.name, layer)"
   ]
  },
  {
   "cell_type": "code",
   "execution_count": null,
   "metadata": {},
   "outputs": [],
   "source": [
    "layer"
   ]
  },
  {
   "cell_type": "code",
   "execution_count": null,
   "metadata": {},
   "outputs": [],
   "source": [
    "#When you query a feature layer, the function returns a featureset\n",
    "fset = layer.query()\n",
    "\n",
    "type(fset)\n",
    "\n"
   ]
  },
  {
   "cell_type": "code",
   "execution_count": null,
   "metadata": {
    "scrolled": false
   },
   "outputs": [],
   "source": [
    "fset.features"
   ]
  },
  {
   "cell_type": "code",
   "execution_count": null,
   "metadata": {},
   "outputs": [],
   "source": [
    "type(fset)"
   ]
  },
  {
   "cell_type": "code",
   "execution_count": null,
   "metadata": {},
   "outputs": [],
   "source": [
    "for feature in fset.features:\n",
    "    print(feature)"
   ]
  },
  {
   "cell_type": "code",
   "execution_count": null,
   "metadata": {},
   "outputs": [],
   "source": [
    "feature"
   ]
  },
  {
   "cell_type": "code",
   "execution_count": null,
   "metadata": {},
   "outputs": [],
   "source": [
    "feature.geometry"
   ]
  },
  {
   "cell_type": "code",
   "execution_count": null,
   "metadata": {},
   "outputs": [],
   "source": [
    "feature.attributes"
   ]
  },
  {
   "cell_type": "code",
   "execution_count": null,
   "metadata": {},
   "outputs": [],
   "source": [
    "feature.attributes['OBJECTID']"
   ]
  },
  {
   "cell_type": "code",
   "execution_count": null,
   "metadata": {},
   "outputs": [],
   "source": [
    "#We can also use the map widget to view existing maps, we can access this by using the index on our search results\n",
    "print(search_result[0])\n",
    "gis.map(search_result[0])"
   ]
  },
  {
   "cell_type": "code",
   "execution_count": null,
   "metadata": {},
   "outputs": [],
   "source": [
    "#We can create a feature layer object using rest service URL\n",
    "#Navigate to feature service page in AGOL to get the URL\n",
    "\n",
    "sf_open_spaces = \n",
    "\n",
    "sf_open_spaces_lyr = features.FeatureLayer(sf_open_spaces, gis)"
   ]
  },
  {
   "cell_type": "code",
   "execution_count": null,
   "metadata": {},
   "outputs": [],
   "source": [
    "amap.add_layer(sf_open_spaces_lyr)\n",
    "amap"
   ]
  },
  {
   "cell_type": "code",
   "execution_count": null,
   "metadata": {},
   "outputs": [],
   "source": []
  }
 ],
 "metadata": {
  "kernelspec": {
   "display_name": "Python 3",
   "language": "python",
   "name": "python3"
  },
  "language_info": {
   "codemirror_mode": {
    "name": "ipython",
    "version": 3
   },
   "file_extension": ".py",
   "mimetype": "text/x-python",
   "name": "python",
   "nbconvert_exporter": "python",
   "pygments_lexer": "ipython3",
   "version": "3.6.10"
  }
 },
 "nbformat": 4,
 "nbformat_minor": 2
}
