{
 "cells": [
  {
   "cell_type": "markdown",
   "metadata": {},
   "source": [
    "# AGOL Python API"
   ]
  },
  {
   "cell_type": "code",
   "execution_count": null,
   "metadata": {},
   "outputs": [],
   "source": [
    "import getpass\n",
    "from arcgis import gis, features\n",
    "\n",
    "username = 'Ian_Conroy_LearnArcGIS'\n",
    "\n",
    "password = getpass.getpass()\n",
    "\n",
    "#Connect to AGOL org, this line creates a gis object that allows us to access our AGOL account and any data we have access to\n",
    "print('Connecting to AGOL Org')\n",
    "gis = gis.GIS('https://learngis2.maps.arcgis.com', username, password)\n"
   ]
  },
  {
   "cell_type": "code",
   "execution_count": null,
   "metadata": {},
   "outputs": [],
   "source": [
    "pizza_csv = r\"C:\\Users\\ian.conroy\\Desktop\\Bay Geo Classes\\Python Class\\Intermediate Class Fall\\Session 3\\Pizza Restaurants.csv\"\n"
   ]
  },
  {
   "cell_type": "code",
   "execution_count": null,
   "metadata": {},
   "outputs": [],
   "source": [
    "item_prop = {'title':'Pizza Restaurants SF All'}\n",
    "csv_item = gis.content.add(item_properties=item_prop, data=pizza_csv)\n",
    "csv_item"
   ]
  },
  {
   "cell_type": "code",
   "execution_count": null,
   "metadata": {},
   "outputs": [],
   "source": [
    "pizza_rest_item = csv_item.publish()\n",
    "pizza_rest_item"
   ]
  },
  {
   "cell_type": "code",
   "execution_count": null,
   "metadata": {},
   "outputs": [],
   "source": [
    "#We can do some spatial analysis with feature layers using the features.analysis module\n",
    "\n",
    "pizza_spots = #Update with new URL\n",
    "sf_neighborhoods = \"https://services3.arcgis.com/U26uBjSD32d7xvm2/arcgis/rest/services/SF_GIS_Data/FeatureServer/3\"\n",
    "\n",
    "pizza_spots_lyr = features.FeatureLayer(pizza_spots, gis)\n",
    "sf_neighborhoods_lyr = features.FeatureLayer(sf_neighborhoods, gis)\n",
    "\n",
    "#The aggregate points function will summarize the points within the polygons\n",
    "#specifying an output name will create a new feature layer, otherwise it creates a feature collection\n",
    "features.analysis.aggregate_points(pizza_spots_lyr, sf_neighborhoods_lyr, output_name=\"aggregated_pizza\")\n",
    "\n"
   ]
  },
  {
   "cell_type": "code",
   "execution_count": null,
   "metadata": {},
   "outputs": [],
   "source": []
  }
 ],
 "metadata": {
  "kernelspec": {
   "display_name": "Python 3",
   "language": "python",
   "name": "python3"
  },
  "language_info": {
   "codemirror_mode": {
    "name": "ipython",
    "version": 3
   },
   "file_extension": ".py",
   "mimetype": "text/x-python",
   "name": "python",
   "nbconvert_exporter": "python",
   "pygments_lexer": "ipython3",
   "version": "3.6.10"
  }
 },
 "nbformat": 4,
 "nbformat_minor": 2
}
